{
 "cells": [
  {
   "cell_type": "markdown",
   "id": "fe22d3d2",
   "metadata": {},
   "source": [
    "# 逻辑回归"
   ]
  },
  {
   "cell_type": "markdown",
   "id": "bd194e79",
   "metadata": {
    "ExecuteTime": {
     "end_time": "2022-04-22T00:47:24.382103Z",
     "start_time": "2022-04-22T00:47:24.373087Z"
    },
    "slideshow": {
     "slide_type": "slide"
    }
   },
   "source": [
    "## 加载数据"
   ]
  },
  {
   "cell_type": "code",
   "execution_count": 274,
   "id": "0f18e4d4",
   "metadata": {
    "ExecuteTime": {
     "end_time": "2022-04-22T05:45:41.619865Z",
     "start_time": "2022-04-22T05:45:41.612924Z"
    },
    "slideshow": {
     "slide_type": "subslide"
    }
   },
   "outputs": [],
   "source": [
    "import numpy as np\n",
    "import matplotlib.pyplot as plt\n",
    "%matplotlib inline"
   ]
  },
  {
   "cell_type": "code",
   "execution_count": 285,
   "id": "abf9b786",
   "metadata": {
    "ExecuteTime": {
     "end_time": "2022-04-22T06:34:52.561298Z",
     "start_time": "2022-04-22T06:34:52.543240Z"
    },
    "slideshow": {
     "slide_type": "subslide"
    }
   },
   "outputs": [],
   "source": [
    "def add_intercept(x):\n",
    "    \"\"\"向数据集中添加全1的列\n",
    "    参数: 二维数组x\n",
    "    返回: 在第1列添加全1列的二维数组\n",
    "    \"\"\"\n",
    "    new_x = np.zeros((x.shape[0], x.shape[1] + 1), dtype=x.dtype)\n",
    "    new_x[:, 0] = 1\n",
    "    new_x[:, 1:] = x\n",
    "\n",
    "    return new_x"
   ]
  },
  {
   "cell_type": "code",
   "execution_count": 286,
   "id": "ccd0fb45",
   "metadata": {
    "ExecuteTime": {
     "end_time": "2022-04-22T06:34:55.003051Z",
     "start_time": "2022-04-22T06:34:54.997051Z"
    },
    "slideshow": {
     "slide_type": "subslide"
    }
   },
   "outputs": [],
   "source": [
    "def load_dataset(csv_path, label_col='y'):\n",
    "    \"\"\"从一个csv文件中加载数据\n",
    "    \"\"\"\n",
    "    # 验证label_col的参数\n",
    "    allowed_label_cols = ('y', 't')\n",
    "    if label_col not in allowed_label_cols:\n",
    "        raise ValueError('Invalid label_col:{}(excepted {})'\n",
    "                         .format(label_col, allowed_label_cols))\n",
    "    #csv文件的头\n",
    "    with open(csv_path, 'r') as scv_fh:\n",
    "        headers = scv_fh.readline().strip().split(',')\n",
    "    # 读取特征和标签,特征以x开头\n",
    "    x_cols = [i for i in range(len(headers)) if headers[i].startswith('x')]\n",
    "    l_cols = [i for i in range(len(headers)) if headers[i] == label_col]\n",
    "    inputs = np.loadtxt(csv_path, delimiter=',', skiprows=1, usecols=x_cols)\n",
    "    labels = np.loadtxt(csv_path, delimiter=',', skiprows=1, usecols=l_cols)\n",
    "    print(x_cols, l_cols)\n",
    "    if inputs.ndim == 1:\n",
    "        inputs = np.expand_dims(inputs, -1)\n",
    "    inputs = add_intercept(inputs)\n",
    "    return inputs, labels"
   ]
  },
  {
   "cell_type": "code",
   "execution_count": 288,
   "id": "45f0dfb1",
   "metadata": {
    "ExecuteTime": {
     "end_time": "2022-04-22T06:35:27.592510Z",
     "start_time": "2022-04-22T06:35:27.568412Z"
    },
    "slideshow": {
     "slide_type": "subslide"
    }
   },
   "outputs": [
    {
     "name": "stdout",
     "output_type": "stream",
     "text": [
      "[0, 1] [2]\n"
     ]
    },
    {
     "data": {
      "text/plain": [
       "(array([[  1.        ,   2.91180854,  60.35961272],\n",
       "        [  1.        ,   3.77474554, 344.1492843 ],\n",
       "        [  1.        ,   2.61548828, 178.22208681],\n",
       "        [  1.        ,   2.01369376,  15.25947155],\n",
       "        [  1.        ,   2.75762504,  66.19417399]]),\n",
       " array([0., 0., 0., 0., 0.]),\n",
       " (800, 3),\n",
       " (800,))"
      ]
     },
     "execution_count": 288,
     "metadata": {},
     "output_type": "execute_result"
    }
   ],
   "source": [
    "# x_train, y_train = load_dataset('train.csv', label_col='y')\n",
    "x_train, y_train = load_dataset('ds1_train.csv', label_col='y')\n",
    "x_train[:5], y_train[:5] , x_train.shape, y_train.shape "
   ]
  },
  {
   "cell_type": "markdown",
   "id": "cb86f8fd",
   "metadata": {
    "ExecuteTime": {
     "end_time": "2022-04-22T03:12:41.695797Z",
     "start_time": "2022-04-22T03:12:41.527804Z"
    },
    "slideshow": {
     "slide_type": "slide"
    }
   },
   "source": [
    "## 绘制样本"
   ]
  },
  {
   "cell_type": "code",
   "execution_count": 289,
   "id": "dbbd4a8b",
   "metadata": {
    "ExecuteTime": {
     "end_time": "2022-04-22T06:35:32.728462Z",
     "start_time": "2022-04-22T06:35:32.710473Z"
    },
    "cell_style": "center",
    "slideshow": {
     "slide_type": "subslide"
    }
   },
   "outputs": [],
   "source": [
    "def plot(x, y, theta=None, save_path=None, correction=1.0):\n",
    "    plt.figure()\n",
    "    plt.xlabel('x1')\n",
    "    plt.ylabel('x2')\n",
    "    plt.plot(x[y == 1, -2], x[y == 1, -1], 'bx', linewidth=2)\n",
    "    plt.plot(x[y == 0, -2], x[y == 0, -1], 'go', linewidth=2)\n",
    "\n",
    "    if theta is not None:\n",
    "        margin1 = (max(x[:, -2]) - min(x[:, -2]))*0.2\n",
    "        margin2 = (max(x[:, -1]) - min(x[:, -1]))*0.2\n",
    "        x1 = np.arange(min(x[:, -2])-margin1, max(x[:, -2])+margin1, 0.01)\n",
    "        x2 = -(theta[0] / theta[2] * correction + theta[1] / theta[2] * x1)\n",
    "        plt.plot(x1, x2, c='red', linewidth=2)\n",
    "        plt.xlim(x[:, -2].min()-margin1, x[:, -2].max()+margin1)\n",
    "        plt.ylim(x[:, -1].min()-margin2, x[:, -1].max()+margin2)\n",
    "\n",
    "    if save_path is not None:\n",
    "        plt.savefig(save_path)"
   ]
  },
  {
   "cell_type": "code",
   "execution_count": 290,
   "id": "08893f99",
   "metadata": {
    "ExecuteTime": {
     "end_time": "2022-04-22T06:36:05.557234Z",
     "start_time": "2022-04-22T06:36:05.445157Z"
    },
    "slideshow": {
     "slide_type": "subslide"
    }
   },
   "outputs": [
    {
     "data": {
      "image/png": "[encoded data removed]",
      "text/plain": [
       "<Figure size 432x288 with 1 Axes>"
      ]
     },
     "metadata": {
      "needs_background": "light"
     },
     "output_type": "display_data"
    }
   ],
   "source": [
    "plot(x_train, y_train) "
   ]
  },
  {
   "cell_type": "markdown",
   "id": "3acf5d96",
   "metadata": {
    "slideshow": {
     "slide_type": "slide"
    }
   },
   "source": [
    "## 线性回归用到的一些基本函数"
   ]
  },
  {
   "cell_type": "code",
   "execution_count": 291,
   "id": "ce82be8b",
   "metadata": {
    "ExecuteTime": {
     "end_time": "2022-04-22T06:36:11.079773Z",
     "start_time": "2022-04-22T06:36:11.059861Z"
    },
    "slideshow": {
     "slide_type": "subslide"
    }
   },
   "outputs": [],
   "source": [
    "def plot_loss(train_loss, val_loss=None):\n",
    "    fig, ax = plt.subplots(figsize=(12,8))\n",
    "    iters = len(train_loss)\n",
    "    ax.plot(np.arange(iters), train_loss, 'r')\n",
    "    ax.set_xlabel('Iterations')\n",
    "    ax.set_ylabel('Cost')\n",
    "    if val_loss is not None:\n",
    "        iters = len(val_loss)\n",
    "        ax.plot(np.arange(iters), train_loss, 'b')\n",
    "    plt.show()"
   ]
  },
  {
   "cell_type": "markdown",
   "id": "bce39ba6",
   "metadata": {
    "slideshow": {
     "slide_type": "slide"
    }
   },
   "source": [
    "## 一些常用的函数"
   ]
  },
  {
   "cell_type": "markdown",
   "id": "2bbe1a4e",
   "metadata": {
    "slideshow": {
     "slide_type": "subslide"
    }
   },
   "source": [
    "# $$g\\left( z \\right)=\\frac{1}{1+{{e}^{-z}}}$$"
   ]
  },
  {
   "cell_type": "code",
   "execution_count": 281,
   "id": "bb06bc13",
   "metadata": {
    "ExecuteTime": {
     "end_time": "2022-04-22T05:47:38.963198Z",
     "start_time": "2022-04-22T05:47:38.954198Z"
    },
    "slideshow": {
     "slide_type": "subslide"
    }
   },
   "outputs": [],
   "source": [
    "def sigmoid(z):\n",
    "    return 1 / (1 + np.exp(-z))"
   ]
  },
  {
   "cell_type": "code",
   "execution_count": 292,
   "id": "fff43f6e",
   "metadata": {
    "ExecuteTime": {
     "end_time": "2022-04-22T06:37:05.336187Z",
     "start_time": "2022-04-22T06:37:05.208191Z"
    },
    "slideshow": {
     "slide_type": "subslide"
    }
   },
   "outputs": [
    {
     "data": {
      "image/png": "[encoded data removed]",
      "text/plain": [
       "<Figure size 432x288 with 1 Axes>"
      ]
     },
     "metadata": {
      "needs_background": "light"
     },
     "output_type": "display_data"
    }
   ],
   "source": [
    "tmp = np.linspace(-10, 10, 200)\n",
    "fig, ax = plt.subplots()\n",
    "ax.plot(tmp, sigmoid(tmp))\n",
    "plt.show()"
   ]
  },
  {
   "cell_type": "markdown",
   "id": "78dca1c6",
   "metadata": {
    "slideshow": {
     "slide_type": "subslide"
    }
   },
   "source": [
    "# $${{h}_{\\theta }}\\left( x \\right)=\\frac{1}{1+{{e}^{-{{\\theta }^{T}}X}}}$$"
   ]
  },
  {
   "cell_type": "code",
   "execution_count": 293,
   "id": "0e0251cb",
   "metadata": {
    "ExecuteTime": {
     "end_time": "2022-04-22T06:38:18.779589Z",
     "start_time": "2022-04-22T06:38:18.770613Z"
    },
    "slideshow": {
     "slide_type": "subslide"
    }
   },
   "outputs": [],
   "source": [
    "def h(theta, x):\n",
    "    return sigmoid(np.dot(x, theta)) "
   ]
  },
  {
   "cell_type": "markdown",
   "id": "baa4c70e",
   "metadata": {
    "slideshow": {
     "slide_type": "subslide"
    }
   },
   "source": [
    "loss function:\n",
    "# $$J\\left( \\theta  \\right)=\\frac{1}{m}\\sum\\limits_{i=1}^{m}{[-{{y}^{(i)}}\\log \\left( {{h}_{\\theta }}\\left( {{x}^{(i)}} \\right) \\right)-\\left( 1-{{y}^{(i)}} \\right)\\log \\left( 1-{{h}_{\\theta }}\\left( {{x}^{(i)}} \\right) \\right)]}$$\n"
   ]
  },
  {
   "cell_type": "code",
   "execution_count": 248,
   "id": "bd4c20af",
   "metadata": {
    "ExecuteTime": {
     "end_time": "2022-04-22T05:32:31.361624Z",
     "start_time": "2022-04-22T05:32:31.353601Z"
    },
    "slideshow": {
     "slide_type": "subslide"
    }
   },
   "outputs": [],
   "source": [
    "def loss_function(theta, x, y):\n",
    "    first = np.multiply(-y, np.log(h(theta, x)))\n",
    "    second = np.multiply(1-y, np.log(1-h(theta, x)))\n",
    "    return np.sum(first - second) / len(x)"
   ]
  },
  {
   "cell_type": "markdown",
   "id": "731fa532",
   "metadata": {
    "slideshow": {
     "slide_type": "subslide"
    }
   },
   "source": [
    "Compute the gradient of $J(\\theta)$:\n",
    "\n",
    "\\begin{align*}\n",
    "\\nabla_\\theta J(\\theta) & = - \\frac{1}{m} \\sum_{i = 1}^{m} y^{(i)} \\frac{1}{h_\\theta (x^{(i)})} h_\\theta (x^{(i)}) \\big( 1 - h_\\theta (x^{(i)}) \\big) - (1 - y^{(i)}) \\frac{1}{1 - h_\\theta (x^{(i)})} h_\\theta (x^{(i)}) \\big( 1 - h_\\theta (x^{(i)}) \\big) \\\\\n",
    "                        & = - \\frac{1}{m} \\sum_{i = 1}^{m} \\big( y^{(i)} - h_\\theta (x^{(i)}) \\big) x^{(i)}\n",
    "\\end{align*}"
   ]
  },
  {
   "cell_type": "code",
   "execution_count": 249,
   "id": "05b63a88",
   "metadata": {
    "ExecuteTime": {
     "end_time": "2022-04-22T05:32:38.019807Z",
     "start_time": "2022-04-22T05:32:38.008810Z"
    },
    "slideshow": {
     "slide_type": "subslide"
    }
   },
   "outputs": [],
   "source": [
    "def gradient(theta, x, y):\n",
    "    m, _ = x.shape\n",
    "    return -1 / m * np.dot(x.T, (y - h(theta, x)))\n"
   ]
  },
  {
   "cell_type": "code",
   "execution_count": 250,
   "id": "396e64f3",
   "metadata": {
    "ExecuteTime": {
     "end_time": "2022-04-22T05:32:40.548611Z",
     "start_time": "2022-04-22T05:32:40.543613Z"
    },
    "slideshow": {
     "slide_type": "subslide"
    }
   },
   "outputs": [],
   "source": [
    "# 预测,如果x^T theta >= 0是正样本\n",
    "def predict(theta, x):\n",
    "    return x @ theta >= 0"
   ]
  },
  {
   "cell_type": "markdown",
   "id": "f462c120",
   "metadata": {
    "ExecuteTime": {
     "end_time": "2022-04-22T03:12:51.662648Z",
     "start_time": "2022-04-22T03:12:51.646516Z"
    },
    "slideshow": {
     "slide_type": "slide"
    }
   },
   "source": [
    "## 使用批量梯度下降的方法进行训练"
   ]
  },
  {
   "cell_type": "code",
   "execution_count": 253,
   "id": "4068c0b7",
   "metadata": {
    "ExecuteTime": {
     "end_time": "2022-04-22T05:33:14.205829Z",
     "start_time": "2022-04-22T05:33:14.197805Z"
    },
    "slideshow": {
     "slide_type": "subslide"
    }
   },
   "outputs": [],
   "source": [
    "def batch_grad_descent(x, y):\n",
    "    alpha = 0.0001\n",
    "    iters = 10000 \n",
    "    theta = np.zeros(x_train.shape[1], dtype=x_train.dtype)\n",
    "    cost = np.zeros(iters)\n",
    "    for i in range(iters):\n",
    "        theta = theta - alpha * gradient(theta, x, y)\n",
    "        cost[i] = loss_function(theta, x, y)\n",
    "    return theta, cost  "
   ]
  },
  {
   "cell_type": "code",
   "execution_count": 254,
   "id": "629827db",
   "metadata": {
    "ExecuteTime": {
     "end_time": "2022-04-22T05:33:16.896824Z",
     "start_time": "2022-04-22T05:33:16.350346Z"
    },
    "slideshow": {
     "slide_type": "subslide"
    }
   },
   "outputs": [],
   "source": [
    "bgd_theta, bgd_loss = batch_grad_descent(x_train, y_train)"
   ]
  },
  {
   "cell_type": "code",
   "execution_count": 255,
   "id": "0292e0b0",
   "metadata": {
    "ExecuteTime": {
     "end_time": "2022-04-22T05:33:20.082132Z",
     "start_time": "2022-04-22T05:33:20.074138Z"
    },
    "slideshow": {
     "slide_type": "subslide"
    }
   },
   "outputs": [
    {
     "data": {
      "text/plain": [
       "(array([ 0.02117602,  0.35147701, -0.01476841]), 0.5173710441615023)"
      ]
     },
     "execution_count": 255,
     "metadata": {},
     "output_type": "execute_result"
    }
   ],
   "source": [
    "bgd_theta, loss_function(bgd_theta, x_train,y_train)"
   ]
  },
  {
   "cell_type": "code",
   "execution_count": 256,
   "id": "270af047",
   "metadata": {
    "ExecuteTime": {
     "end_time": "2022-04-22T05:33:23.761418Z",
     "start_time": "2022-04-22T05:33:23.628287Z"
    },
    "slideshow": {
     "slide_type": "subslide"
    }
   },
   "outputs": [
    {
     "data": {
      "image/png": "[encoded data removed]",
      "text/plain": [
       "<Figure size 864x576 with 1 Axes>"
      ]
     },
     "metadata": {
      "needs_background": "light"
     },
     "output_type": "display_data"
    }
   ],
   "source": [
    "plot_loss(bgd_loss)"
   ]
  },
  {
   "cell_type": "code",
   "execution_count": 257,
   "id": "cd000a04",
   "metadata": {
    "ExecuteTime": {
     "end_time": "2022-04-22T05:33:30.427853Z",
     "start_time": "2022-04-22T05:33:30.323841Z"
    },
    "slideshow": {
     "slide_type": "subslide"
    }
   },
   "outputs": [
    {
     "name": "stdout",
     "output_type": "stream",
     "text": [
      "Theta is:  [ 0.02117602  0.35147701 -0.01476841]\n",
      "The accuracy on training set is:  0.75875\n"
     ]
    },
    {
     "data": {
      "image/png": "[encoded data removed]",
      "text/plain": [
       "<Figure size 432x288 with 1 Axes>"
      ]
     },
     "metadata": {
      "needs_background": "light"
     },
     "output_type": "display_data"
    }
   ],
   "source": [
    "plot(x_train, y_train, theta=bgd_theta)\n",
    "print(\"Theta is: \",bgd_theta)\n",
    "print(\"The accuracy on training set is: \", np.mean(predict(bgd_theta,x_train) == y_train))"
   ]
  },
  {
   "cell_type": "markdown",
   "id": "90213650",
   "metadata": {
    "ExecuteTime": {
     "end_time": "2022-04-22T03:12:58.759713Z",
     "start_time": "2022-04-22T03:12:58.747618Z"
    },
    "slideshow": {
     "slide_type": "slide"
    }
   },
   "source": [
    "## 牛顿法\n",
    "\n",
    "![image-20220422121457664](https://s2.loli.net/2022/04/22/9VEpigcdy56HWRN.png)\n",
    "\n",
    "![image-20220422121534298](https://s2.loli.net/2022/04/22/zmjitORI5FV3SYx.png)\n",
    "\n",
    "\n",
    "![image-20220422121624601](https://s2.loli.net/2022/04/22/9iLNyl2k8v4p1RB.png)\n"
   ]
  },
  {
   "cell_type": "markdown",
   "id": "3a7037f4",
   "metadata": {
    "slideshow": {
     "slide_type": "subslide"
    }
   },
   "source": [
    "Recall the average empirical loss for logistic regression:\n",
    "\n",
    "$$J(\\theta) = - \\frac{1}{m} \\sum_{i = 1}^{m} y^{(i)} \\log \\big( h_\\theta (x^{(i)}) \\big) + (1 - y^{(i)}) \\log \\big( 1 - h_\\theta (x^{(i)}) \\big)$$,\n",
    "\n",
    "where $y^{(i)} \\in \\{ 0, 1 \\}, h_\\theta (x) = g(\\theta^T x)$ and $g(z) = 1 / (1 + e^{-z})$.\n",
    "\n"
   ]
  },
  {
   "cell_type": "markdown",
   "id": "3f1ce815",
   "metadata": {
    "slideshow": {
     "slide_type": "subslide"
    }
   },
   "source": [
    "Compute the gradient of $J(\\theta)$:\n",
    "\n",
    "\\begin{align*}\n",
    "\\nabla_\\theta J(\\theta) & = - \\frac{1}{m} \\sum_{i = 1}^{m} y^{(i)} \\frac{1}{h_\\theta (x^{(i)})} h_\\theta (x^{(i)}) \\big( 1 - h_\\theta (x^{(i)}) \\big) - (1 - y^{(i)}) \\frac{1}{1 - h_\\theta (x^{(i)})} h_\\theta (x^{(i)}) \\big( 1 - h_\\theta (x^{(i)}) \\big) \\\\\n",
    "                        & = - \\frac{1}{m} \\sum_{i = 1}^{m} \\big( y^{(i)} - h_\\theta (x^{(i)}) \\big) x^{(i)}\n",
    "\\end{align*}\n",
    "\n"
   ]
  },
  {
   "cell_type": "markdown",
   "id": "da640345",
   "metadata": {
    "slideshow": {
     "slide_type": "subslide"
    }
   },
   "source": [
    "Then, the Hessian of $J(\\theta)$ is:\n",
    "\n",
    "$$H = \\nabla_\\theta^2 J(\\theta) = \\frac{1}{m} \\sum_{i = 1}^{m}  h_\\theta (x^{(i)}) \\big( 1 - h_\\theta (x^{(i)}) \\big) x^{(i)} (x^{(i)})^T$$\n",
    "\n"
   ]
  },
  {
   "cell_type": "code",
   "execution_count": 259,
   "id": "df628a6b",
   "metadata": {
    "ExecuteTime": {
     "end_time": "2022-04-22T05:33:46.278192Z",
     "start_time": "2022-04-22T05:33:46.274210Z"
    },
    "slideshow": {
     "slide_type": "subslide"
    }
   },
   "outputs": [],
   "source": [
    "def hessian(theta, x):\n",
    "    m, _ = x.shape       \n",
    "    h_theta_x = np.reshape(h(theta, x), (-1, 1))\n",
    "    return 1 / m * np.dot(x.T, h_theta_x * ( 1 - h_theta_x) * x)\n",
    " "
   ]
  },
  {
   "cell_type": "code",
   "execution_count": 260,
   "id": "43564ca8",
   "metadata": {
    "ExecuteTime": {
     "end_time": "2022-04-22T05:34:38.918145Z",
     "start_time": "2022-04-22T05:34:38.901144Z"
    },
    "slideshow": {
     "slide_type": "subslide"
    }
   },
   "outputs": [],
   "source": [
    "def next_theta(theta, x, y):\n",
    "    return theta - np.dot(np.linalg.inv(hessian(theta, x)), gradient(theta, x, y))"
   ]
  },
  {
   "cell_type": "code",
   "execution_count": 261,
   "id": "a7191d12",
   "metadata": {
    "ExecuteTime": {
     "end_time": "2022-04-22T05:34:44.605659Z",
     "start_time": "2022-04-22T05:34:44.598656Z"
    },
    "slideshow": {
     "slide_type": "subslide"
    }
   },
   "outputs": [],
   "source": [
    "def fit(x, y):\n",
    "    m, n = x.shape\n",
    "    theta = np.zeros(n)\n",
    "    eps = 1e-5\n",
    "    old_theta = theta\n",
    "    new_theta = next_theta(theta, x , y)\n",
    "    loss = [loss_function(old_theta, x, y)] \n",
    "    while np.linalg.norm(new_theta - old_theta, 1) >= eps:\n",
    "        old_theta = new_theta\n",
    "        loss.append(loss_function(old_theta, x, y))\n",
    "        new_theta = next_theta(old_theta, x_train, y_train)\n",
    "    return new_theta, loss"
   ]
  },
  {
   "cell_type": "code",
   "execution_count": 262,
   "id": "ace6ee55",
   "metadata": {
    "ExecuteTime": {
     "end_time": "2022-04-22T05:34:48.526901Z",
     "start_time": "2022-04-22T05:34:48.512908Z"
    },
    "slideshow": {
     "slide_type": "subslide"
    }
   },
   "outputs": [],
   "source": [
    "newton_theta, newton_loss = fit(x_train,y_train)\n"
   ]
  },
  {
   "cell_type": "code",
   "execution_count": 268,
   "id": "53b53c19",
   "metadata": {
    "ExecuteTime": {
     "end_time": "2022-04-22T05:36:05.728797Z",
     "start_time": "2022-04-22T05:36:05.598865Z"
    },
    "slideshow": {
     "slide_type": "subslide"
    }
   },
   "outputs": [
    {
     "data": {
      "image/png": "[encoded data removed]",
      "text/plain": [
       "<Figure size 864x576 with 1 Axes>"
      ]
     },
     "metadata": {
      "needs_background": "light"
     },
     "output_type": "display_data"
    },
    {
     "data": {
      "text/plain": [
       "(array([-6.26018491,  2.47707251, -0.0299125 ]), 0.3255719112349646)"
      ]
     },
     "execution_count": 268,
     "metadata": {},
     "output_type": "execute_result"
    }
   ],
   "source": [
    "plot_loss(newton_loss)\n",
    "newton_theta, loss_function(newton_theta, x_train, y_train)"
   ]
  },
  {
   "cell_type": "code",
   "execution_count": 269,
   "id": "9a5842c8",
   "metadata": {
    "ExecuteTime": {
     "end_time": "2022-04-22T05:36:12.808606Z",
     "start_time": "2022-04-22T05:36:12.670502Z"
    },
    "slideshow": {
     "slide_type": "subslide"
    }
   },
   "outputs": [
    {
     "name": "stdout",
     "output_type": "stream",
     "text": [
      "Theta is:  [ 0.02117602  0.35147701 -0.01476841]\n",
      "The accuracy on training set is:  0.8825\n"
     ]
    },
    {
     "data": {
      "image/png": "[encoded data removed]",
      "text/plain": [
       "<Figure size 432x288 with 1 Axes>"
      ]
     },
     "metadata": {
      "needs_background": "light"
     },
     "output_type": "display_data"
    }
   ],
   "source": [
    "plot(x_train, y_train, theta=bgd_theta)\n",
    "print(\"Theta is: \",bgd_theta)\n",
    "print(\"The accuracy on training set is: \", np.mean(predict(newton_theta,x_train) ==  y_train))\n",
    "    "
   ]
  },
  {
   "cell_type": "code",
   "execution_count": 270,
   "id": "eb6aab22",
   "metadata": {
    "ExecuteTime": {
     "end_time": "2022-04-22T05:36:21.015222Z",
     "start_time": "2022-04-22T05:36:21.004221Z"
    },
    "slideshow": {
     "slide_type": "subslide"
    }
   },
   "outputs": [
    {
     "name": "stdout",
     "output_type": "stream",
     "text": [
      "[0, 1] [2]\n"
     ]
    },
    {
     "data": {
      "text/plain": [
       "(array([[  1.        ,   2.1773955 ,  78.63007649],\n",
       "        [  1.        ,   3.95213116, 123.5415734 ],\n",
       "        [  1.        ,   3.35117646,  47.75251718],\n",
       "        [  1.        ,   2.07493367,  26.99772989],\n",
       "        [  1.        ,   3.57977541, 226.70377922]]),\n",
       " array([0., 0., 0., 0., 0.]),\n",
       " (100, 3),\n",
       " (100,))"
      ]
     },
     "execution_count": 270,
     "metadata": {},
     "output_type": "execute_result"
    }
   ],
   "source": [
    "x_valid, y_valid = load_dataset('ds1_valid.csv', label_col='y')\n",
    "x_valid[:5],y_valid[: 5], x_valid.shape, y_valid.shape"
   ]
  },
  {
   "cell_type": "code",
   "execution_count": 271,
   "id": "dff9a682",
   "metadata": {
    "ExecuteTime": {
     "end_time": "2022-04-22T05:36:23.435615Z",
     "start_time": "2022-04-22T05:36:23.245605Z"
    },
    "slideshow": {
     "slide_type": "subslide"
    }
   },
   "outputs": [
    {
     "name": "stdout",
     "output_type": "stream",
     "text": [
      "The accuracy on validation set is:  0.9\n"
     ]
    },
    {
     "data": {
      "image/png": "[encoded data removed]",
      "text/plain": [
       "<Figure size 432x288 with 1 Axes>"
      ]
     },
     "metadata": {
      "needs_background": "light"
     },
     "output_type": "display_data"
    }
   ],
   "source": [
    "plot(x_valid, y_valid, newton_theta)\n",
    "print(\"The accuracy on validation set is: \", np.mean(predict(newton_theta,x_valid) == y_valid))"
   ]
  },
  {
   "cell_type": "code",
   "execution_count": 273,
   "id": "4a8f2555",
   "metadata": {
    "ExecuteTime": {
     "end_time": "2022-04-22T05:36:36.908067Z",
     "start_time": "2022-04-22T05:36:36.789115Z"
    },
    "slideshow": {
     "slide_type": "subslide"
    }
   },
   "outputs": [
    {
     "name": "stdout",
     "output_type": "stream",
     "text": [
      "The accuracy on validation set is:  0.74\n"
     ]
    },
    {
     "data": {
      "image/png": "[encoded data removed]",
      "text/plain": [
       "<Figure size 432x288 with 1 Axes>"
      ]
     },
     "metadata": {
      "needs_background": "light"
     },
     "output_type": "display_data"
    }
   ],
   "source": [
    "plot(x_valid, y_valid, bgd_theta)\n",
    "print(\"The accuracy on validation set is: \", np.mean(predict(bgd_theta,x_valid) == y_valid))"
   ]
  },
  {
   "cell_type": "code",
   "execution_count": null,
   "id": "fe1b3c73",
   "metadata": {},
   "outputs": [],
   "source": []
  }
 ],
 "metadata": {
  "celltoolbar": "幻灯片",
  "kernelspec": {
   "display_name": "Python 3 (ipykernel)",
   "language": "python",
   "name": "python3"
  },
  "language_info": {
   "codemirror_mode": {
    "name": "ipython",
    "version": 3
   },
   "file_extension": ".py",
   "mimetype": "text/x-python",
   "name": "python",
   "nbconvert_exporter": "python",
   "pygments_lexer": "ipython3",
   "version": "3.8.12"
  },
  "latex_envs": {
   "LaTeX_envs_menu_present": true,
   "autoclose": false,
   "autocomplete": true,
   "bibliofile": "biblio.bib",
   "cite_by": "apalike",
   "current_citInitial": 1,
   "eqLabelWithNumbers": true,
   "eqNumInitial": 1,
   "hotkeys": {
    "equation": "Ctrl-E",
    "itemize": "Ctrl-I"
   },
   "labels_anchors": false,
   "latex_user_defs": false,
   "report_style_numbering": false,
   "user_envs_cfg": false
  },
  "varInspector": {
   "cols": {
    "lenName": 16,
    "lenType": 16,
    "lenVar": 40
   },
   "kernels_config": {
    "python": {
     "delete_cmd_postfix": "",
     "delete_cmd_prefix": "del ",
     "library": "var_list.py",
     "varRefreshCmd": "print(var_dic_list())"
    },
    "r": {
     "delete_cmd_postfix": ") ",
     "delete_cmd_prefix": "rm(",
     "library": "var_list.r",
     "varRefreshCmd": "cat(var_dic_list()) "
    }
   },
   "types_to_exclude": [
    "module",
    "function",
    "builtin_function_or_method",
    "instance",
    "_Feature"
   ],
   "window_display": false
  }
 },
 "nbformat": 4,
 "nbformat_minor": 5
}

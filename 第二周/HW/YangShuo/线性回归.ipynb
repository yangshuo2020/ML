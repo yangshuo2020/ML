{
 "cells": [
  {
   "cell_type": "code",
   "execution_count": null,
   "id": "f406d17c",
   "metadata": {},
   "outputs": [],
   "source": []
  },
  {
   "cell_type": "code",
   "execution_count": 1,
   "id": "6a7a0f8e",
   "metadata": {
    "ExecuteTime": {
     "end_time": "2022-04-21T01:10:26.908754Z",
     "start_time": "2022-04-21T01:10:25.915736Z"
    }
   },
   "outputs": [],
   "source": [
    "import numpy as np\n",
    "import matplotlib.pyplot as plt\n",
    "from sklearn.model_selection import train_test_split"
   ]
  },
  {
   "cell_type": "code",
   "execution_count": 13,
   "id": "42da932a",
   "metadata": {
    "ExecuteTime": {
     "end_time": "2022-04-21T02:05:07.249459Z",
     "start_time": "2022-04-21T02:05:07.240458Z"
    }
   },
   "outputs": [],
   "source": [
    "# 读取数据,返回X和Y\n",
    "def load_housing_data():\n",
    "    file = open(\"Housing.txt\", 'r')\n",
    "    labels = np.zeros((506, 1), dtype=np.float32)\n",
    "    data = np.zeros((506, 13), dtype=np.float32)\n",
    "    for i, line in enumerate(file):\n",
    "        line = line.strip('\\n').split()\n",
    "        labels[i] = float(line[0])\n",
    "        for j in range(13):\n",
    "            data[i,j] = float(line[j+1].split(\":\")[1])\n",
    "    data = np.array(data)\n",
    "    labels = np.array(labels)\n",
    "    return data, labels\n",
    "\n",
    "\n",
    "\n",
    "            "
   ]
  },
  {
   "cell_type": "code",
   "execution_count": 22,
   "id": "e73c49c9",
   "metadata": {
    "ExecuteTime": {
     "end_time": "2022-04-21T02:24:41.609856Z",
     "start_time": "2022-04-21T02:24:41.604833Z"
    }
   },
   "outputs": [],
   "source": [
    "# 训练模型,返回损失和模型参数\n",
    "def train(x_train, y_train, x_test, y_test, num_train, learning_rate):\n",
    "    w = np.zeros((1, len(x_train[0])), dtype=np.float32)\n",
    "    b = 0.0\n",
    "    train_loss = []\n",
    "    test_loss = []\n",
    "    for epoch in range(num_train):\n",
    "        loss = 0\n",
    "        for i in range(len(x_train)):\n",
    "            x = x_train[i]\n",
    "            y = y_train[i]\n",
    "            h = w.dot(x) + b\n",
    "            \n",
    "            loss += (y - h) ** 2\n",
    "            w = w - learning_rate * (h - y) * x\n",
    "            b = b - learning_rate * (h - y) \n",
    "        train_loss.append(loss / len(x_train))\n",
    "        test_loss.append(test(x_train, y_train, w, b))\n",
    "    return train_loss, test_loss, w, b"
   ]
  },
  {
   "cell_type": "code",
   "execution_count": 23,
   "id": "0f5aca10",
   "metadata": {
    "ExecuteTime": {
     "end_time": "2022-04-21T02:24:41.937972Z",
     "start_time": "2022-04-21T02:24:41.919859Z"
    }
   },
   "outputs": [],
   "source": [
    "# 计算并返回测试集损失值\n",
    "def test(X, Y, w, b):\n",
    "    loss = 0\n",
    "    for i in range(len(X)):\n",
    "        x = X[i]\n",
    "        y = Y[i]\n",
    "        h = w.dot(x) + b\n",
    "        loss += (y - h) ** 2\n",
    "    return loss / len(X)\n"
   ]
  },
  {
   "cell_type": "code",
   "execution_count": 24,
   "id": "eb9e1a06",
   "metadata": {
    "ExecuteTime": {
     "end_time": "2022-04-21T02:24:42.095422Z",
     "start_time": "2022-04-21T02:24:42.086424Z"
    }
   },
   "outputs": [],
   "source": [
    "# 根据模型计算房价预测值\n",
    "def predict(X, w, b):\n",
    "    H = []\n",
    "    for i in range(len(X)):\n",
    "        H.append(w.dot(X[i]) + b)\n",
    "    return H\n"
   ]
  },
  {
   "cell_type": "code",
   "execution_count": 35,
   "id": "b7948fdb",
   "metadata": {
    "ExecuteTime": {
     "end_time": "2022-04-21T02:26:16.992157Z",
     "start_time": "2022-04-21T02:26:16.975156Z"
    }
   },
   "outputs": [],
   "source": [
    "# 绘制损失函数\n",
    "def plot_loss(train_loss, test_loss):\n",
    "    plt.figure( )\n",
    "    plt.title(\"Loss Function\")\n",
    "    plt.plot(range(len(train_loss)), train_loss, c='blue', linestyle=':', label='train')\n",
    "    plt.plot(range(len(test_loss)), test_loss, c='red', label='test')\n",
    "    plt.legend()\n",
    "    plt.show()\n",
    "    \n",
    "    "
   ]
  },
  {
   "cell_type": "code",
   "execution_count": 36,
   "id": "b5172aa6",
   "metadata": {
    "ExecuteTime": {
     "end_time": "2022-04-21T02:26:20.878277Z",
     "start_time": "2022-04-21T02:26:20.867280Z"
    }
   },
   "outputs": [],
   "source": [
    "# 绘制房价预测图\n",
    "def plot_price(y_predict, y_true):\n",
    "    plt.figure(  )\n",
    "    plt.title('Model Fitting')\n",
    "    plt.plot(range(len(y_true)), y_true, c='blue', label='real')\n",
    "    plt.plot(range(len(y_true)), y_predict, c='red', linestyle=':', label='predict')\n",
    "    plt.legend()\n",
    "    plt.show()"
   ]
  },
  {
   "cell_type": "code",
   "execution_count": 27,
   "id": "cd251a00",
   "metadata": {
    "ExecuteTime": {
     "end_time": "2022-04-21T02:24:42.839661Z",
     "start_time": "2022-04-21T02:24:42.818800Z"
    }
   },
   "outputs": [],
   "source": [
    "X, Y = load_housing_data()\n"
   ]
  },
  {
   "cell_type": "code",
   "execution_count": 28,
   "id": "d992d770",
   "metadata": {
    "ExecuteTime": {
     "end_time": "2022-04-21T02:24:43.122581Z",
     "start_time": "2022-04-21T02:24:43.118581Z"
    }
   },
   "outputs": [],
   "source": [
    "x_train, x_test, y_train, y_test = train_test_split(X, Y)\n"
   ]
  },
  {
   "cell_type": "code",
   "execution_count": 29,
   "id": "c6647d39",
   "metadata": {
    "ExecuteTime": {
     "end_time": "2022-04-21T02:24:43.916195Z",
     "start_time": "2022-04-21T02:24:43.465180Z"
    }
   },
   "outputs": [],
   "source": [
    "train_loss, test_loss, w, b = train(x_train, y_train, x_test, y_test, 101, 0.001)"
   ]
  },
  {
   "cell_type": "code",
   "execution_count": 37,
   "id": "91ac5362",
   "metadata": {
    "ExecuteTime": {
     "end_time": "2022-04-21T02:26:23.640050Z",
     "start_time": "2022-04-21T02:26:23.503032Z"
    }
   },
   "outputs": [
    {
     "data": {
      "image/png": "[encoded data removed]",
      "text/plain": [
       "<Figure size 432x288 with 1 Axes>"
      ]
     },
     "metadata": {
      "needs_background": "light"
     },
     "output_type": "display_data"
    }
   ],
   "source": [
    "plot_loss(train_loss, test_loss)"
   ]
  },
  {
   "cell_type": "code",
   "execution_count": 38,
   "id": "4c1597fb",
   "metadata": {
    "ExecuteTime": {
     "end_time": "2022-04-21T02:26:26.867410Z",
     "start_time": "2022-04-21T02:26:26.715178Z"
    }
   },
   "outputs": [
    {
     "data": {
      "image/png": "[encoded data removed]",
      "text/plain": [
       "<Figure size 432x288 with 1 Axes>"
      ]
     },
     "metadata": {
      "needs_background": "light"
     },
     "output_type": "display_data"
    }
   ],
   "source": [
    "plot_price(predict(x_test, w, b), y_test)"
   ]
  },
  {
   "cell_type": "code",
   "execution_count": 39,
   "id": "ff1ae14a",
   "metadata": {
    "ExecuteTime": {
     "end_time": "2022-04-21T02:26:42.095363Z",
     "start_time": "2022-04-21T02:26:42.085321Z"
    }
   },
   "outputs": [
    {
     "data": {
      "text/plain": [
       "array([[ -7.020608  ,   1.6099119 ,  -0.30530256,   1.7631714 ,\n",
       "         -3.7578838 ,   9.662033  ,   0.46919814,  -6.36998   ,\n",
       "          3.0136294 ,  -1.32339   ,  -4.916855  ,   1.9499449 ,\n",
       "        -10.627229  ]], dtype=float32)"
      ]
     },
     "execution_count": 39,
     "metadata": {},
     "output_type": "execute_result"
    }
   ],
   "source": [
    "w"
   ]
  },
  {
   "cell_type": "code",
   "execution_count": 40,
   "id": "097f6852",
   "metadata": {
    "ExecuteTime": {
     "end_time": "2022-04-21T02:26:43.845379Z",
     "start_time": "2022-04-21T02:26:43.841375Z"
    }
   },
   "outputs": [
    {
     "data": {
      "text/plain": [
       "array([9.553569], dtype=float32)"
      ]
     },
     "execution_count": 40,
     "metadata": {},
     "output_type": "execute_result"
    }
   ],
   "source": [
    "b"
   ]
  },
  {
   "cell_type": "code",
   "execution_count": 41,
   "id": "2dcff683",
   "metadata": {
    "ExecuteTime": {
     "end_time": "2022-04-21T02:26:53.248380Z",
     "start_time": "2022-04-21T02:26:53.232390Z"
    }
   },
   "outputs": [
    {
     "data": {
      "text/plain": [
       "array([21.952463], dtype=float32)"
      ]
     },
     "execution_count": 41,
     "metadata": {},
     "output_type": "execute_result"
    }
   ],
   "source": [
    "test_loss[-1]"
   ]
  },
  {
   "cell_type": "code",
   "execution_count": 46,
   "id": "1cf9985c",
   "metadata": {
    "ExecuteTime": {
     "end_time": "2022-04-21T02:31:57.271930Z",
     "start_time": "2022-04-21T02:31:57.257918Z"
    }
   },
   "outputs": [],
   "source": [
    "import numpy as np\n",
    "import pandas as pd\n",
    "import matplotlib.pyplot as plt\n",
    "%matplotlib inline"
   ]
  },
  {
   "cell_type": "code",
   "execution_count": 44,
   "id": "d7d4c7bc",
   "metadata": {
    "ExecuteTime": {
     "end_time": "2022-04-21T02:30:50.928497Z",
     "start_time": "2022-04-21T02:30:50.904907Z"
    }
   },
   "outputs": [
    {
     "data": {
      "text/plain": [
       "(   Population   Profit\n",
       " 0      6.1101  17.5920\n",
       " 1      5.5277   9.1302\n",
       " 2      8.5186  13.6620\n",
       " 3      7.0032  11.8540\n",
       " 4      5.8598   6.8233,\n",
       " (97, 2))"
      ]
     },
     "execution_count": 44,
     "metadata": {},
     "output_type": "execute_result"
    }
   ],
   "source": [
    "path = 'ex1data1.txt'\n",
    "data = pd.read_csv(path, header=None, names=['Population', 'Profit'])\n",
    "data.head(), data.shape"
   ]
  },
  {
   "cell_type": "code",
   "execution_count": 48,
   "id": "806cb674",
   "metadata": {
    "ExecuteTime": {
     "end_time": "2022-04-21T02:32:06.312736Z",
     "start_time": "2022-04-21T02:32:06.184642Z"
    }
   },
   "outputs": [
    {
     "data": {
      "image/png": "[encoded data removed]",
      "text/plain": [
       "<Figure size 432x288 with 1 Axes>"
      ]
     },
     "metadata": {
      "needs_background": "light"
     },
     "output_type": "display_data"
    }
   ],
   "source": [
    "data.plot(kind='scatter', x='Population', y='Profit')\n",
    "plt.show()"
   ]
  },
  {
   "cell_type": "code",
   "execution_count": 86,
   "id": "1cc75b7b",
   "metadata": {
    "ExecuteTime": {
     "end_time": "2022-04-21T03:18:33.883412Z",
     "start_time": "2022-04-21T03:18:33.874402Z"
    }
   },
   "outputs": [],
   "source": [
    "def compute_cost(X, Y, W):\n",
    "    return np.sum(np.power(((X * W.T) - Y), 2)) / len(X)\n"
   ]
  },
  {
   "cell_type": "code",
   "execution_count": 113,
   "id": "fd6aff96",
   "metadata": {
    "ExecuteTime": {
     "end_time": "2022-04-21T03:21:54.182417Z",
     "start_time": "2022-04-21T03:21:54.168438Z"
    }
   },
   "outputs": [],
   "source": [
    "def batch_gradient_descent(X, Y, W, alpha, iters):\n",
    "    tmp = np.matrix(np.zeros(W.shape))\n",
    "    parameters = int(W.ravel().shape[1])\n",
    "    cost = np.zeros(iters)\n",
    "    \n",
    "    for i in range(iters):\n",
    "        error = (X * W.T) - Y\n",
    "        for j in range(parameters):\n",
    "            term = np.multiply(error, X[:,j])\n",
    "            tmp[0,j] = W[0,j] - ((alpha / len(X)) * np.sum(term))\n",
    "        W = tmp\n",
    "        cost[i] = compute_cost(X, Y, W)\n",
    "    return W, cost\n",
    "\n",
    "\n",
    "        "
   ]
  },
  {
   "cell_type": "code",
   "execution_count": 104,
   "id": "334dd78b",
   "metadata": {
    "ExecuteTime": {
     "end_time": "2022-04-21T03:20:19.142081Z",
     "start_time": "2022-04-21T03:20:19.125080Z"
    }
   },
   "outputs": [
    {
     "ename": "ValueError",
     "evalue": "cannot insert One, already exists",
     "output_type": "error",
     "traceback": [
      "\u001b[1;31m---------------------------------------------------------------------------\u001b[0m",
      "\u001b[1;31mValueError\u001b[0m                                Traceback (most recent call last)",
      "\u001b[1;32m~\\AppData\\Local\\Temp/ipykernel_11528/1301263205.py\u001b[0m in \u001b[0;36m<module>\u001b[1;34m\u001b[0m\n\u001b[1;32m----> 1\u001b[1;33m \u001b[0mdata\u001b[0m\u001b[1;33m.\u001b[0m\u001b[0minsert\u001b[0m\u001b[1;33m(\u001b[0m\u001b[1;36m0\u001b[0m\u001b[1;33m,\u001b[0m \u001b[1;34m'One'\u001b[0m\u001b[1;33m,\u001b[0m \u001b[1;36m1\u001b[0m\u001b[1;33m)\u001b[0m\u001b[1;33m\u001b[0m\u001b[1;33m\u001b[0m\u001b[0m\n\u001b[0m\u001b[0;32m      2\u001b[0m \u001b[0mdata\u001b[0m\u001b[1;33m\u001b[0m\u001b[1;33m\u001b[0m\u001b[0m\n",
      "\u001b[1;32mD:\\Anaconda\\envs\\d2l-zh\\lib\\site-packages\\pandas\\core\\frame.py\u001b[0m in \u001b[0;36minsert\u001b[1;34m(self, loc, column, value, allow_duplicates)\u001b[0m\n\u001b[0;32m   3758\u001b[0m         \u001b[0mself\u001b[0m\u001b[1;33m.\u001b[0m\u001b[0m_ensure_valid_index\u001b[0m\u001b[1;33m(\u001b[0m\u001b[0mvalue\u001b[0m\u001b[1;33m)\u001b[0m\u001b[1;33m\u001b[0m\u001b[1;33m\u001b[0m\u001b[0m\n\u001b[0;32m   3759\u001b[0m         \u001b[0mvalue\u001b[0m \u001b[1;33m=\u001b[0m \u001b[0mself\u001b[0m\u001b[1;33m.\u001b[0m\u001b[0m_sanitize_column\u001b[0m\u001b[1;33m(\u001b[0m\u001b[0mcolumn\u001b[0m\u001b[1;33m,\u001b[0m \u001b[0mvalue\u001b[0m\u001b[1;33m,\u001b[0m \u001b[0mbroadcast\u001b[0m\u001b[1;33m=\u001b[0m\u001b[1;32mFalse\u001b[0m\u001b[1;33m)\u001b[0m\u001b[1;33m\u001b[0m\u001b[1;33m\u001b[0m\u001b[0m\n\u001b[1;32m-> 3760\u001b[1;33m         \u001b[0mself\u001b[0m\u001b[1;33m.\u001b[0m\u001b[0m_mgr\u001b[0m\u001b[1;33m.\u001b[0m\u001b[0minsert\u001b[0m\u001b[1;33m(\u001b[0m\u001b[0mloc\u001b[0m\u001b[1;33m,\u001b[0m \u001b[0mcolumn\u001b[0m\u001b[1;33m,\u001b[0m \u001b[0mvalue\u001b[0m\u001b[1;33m,\u001b[0m \u001b[0mallow_duplicates\u001b[0m\u001b[1;33m=\u001b[0m\u001b[0mallow_duplicates\u001b[0m\u001b[1;33m)\u001b[0m\u001b[1;33m\u001b[0m\u001b[1;33m\u001b[0m\u001b[0m\n\u001b[0m\u001b[0;32m   3761\u001b[0m \u001b[1;33m\u001b[0m\u001b[0m\n\u001b[0;32m   3762\u001b[0m     \u001b[1;32mdef\u001b[0m \u001b[0massign\u001b[0m\u001b[1;33m(\u001b[0m\u001b[0mself\u001b[0m\u001b[1;33m,\u001b[0m \u001b[1;33m**\u001b[0m\u001b[0mkwargs\u001b[0m\u001b[1;33m)\u001b[0m \u001b[1;33m->\u001b[0m \u001b[0mDataFrame\u001b[0m\u001b[1;33m:\u001b[0m\u001b[1;33m\u001b[0m\u001b[1;33m\u001b[0m\u001b[0m\n",
      "\u001b[1;32mD:\\Anaconda\\envs\\d2l-zh\\lib\\site-packages\\pandas\\core\\internals\\managers.py\u001b[0m in \u001b[0;36minsert\u001b[1;34m(self, loc, item, value, allow_duplicates)\u001b[0m\n\u001b[0;32m   1189\u001b[0m         \u001b[1;32mif\u001b[0m \u001b[1;32mnot\u001b[0m \u001b[0mallow_duplicates\u001b[0m \u001b[1;32mand\u001b[0m \u001b[0mitem\u001b[0m \u001b[1;32min\u001b[0m \u001b[0mself\u001b[0m\u001b[1;33m.\u001b[0m\u001b[0mitems\u001b[0m\u001b[1;33m:\u001b[0m\u001b[1;33m\u001b[0m\u001b[1;33m\u001b[0m\u001b[0m\n\u001b[0;32m   1190\u001b[0m             \u001b[1;31m# Should this be a different kind of error??\u001b[0m\u001b[1;33m\u001b[0m\u001b[1;33m\u001b[0m\u001b[1;33m\u001b[0m\u001b[0m\n\u001b[1;32m-> 1191\u001b[1;33m             \u001b[1;32mraise\u001b[0m \u001b[0mValueError\u001b[0m\u001b[1;33m(\u001b[0m\u001b[1;34mf\"cannot insert {item}, already exists\"\u001b[0m\u001b[1;33m)\u001b[0m\u001b[1;33m\u001b[0m\u001b[1;33m\u001b[0m\u001b[0m\n\u001b[0m\u001b[0;32m   1192\u001b[0m \u001b[1;33m\u001b[0m\u001b[0m\n\u001b[0;32m   1193\u001b[0m         \u001b[1;32mif\u001b[0m \u001b[1;32mnot\u001b[0m \u001b[0misinstance\u001b[0m\u001b[1;33m(\u001b[0m\u001b[0mloc\u001b[0m\u001b[1;33m,\u001b[0m \u001b[0mint\u001b[0m\u001b[1;33m)\u001b[0m\u001b[1;33m:\u001b[0m\u001b[1;33m\u001b[0m\u001b[1;33m\u001b[0m\u001b[0m\n",
      "\u001b[1;31mValueError\u001b[0m: cannot insert One, already exists"
     ]
    }
   ],
   "source": [
    "data.insert(0, 'One', 1)\n",
    "data"
   ]
  },
  {
   "cell_type": "code",
   "execution_count": 105,
   "id": "37608567",
   "metadata": {
    "ExecuteTime": {
     "end_time": "2022-04-21T03:20:19.600235Z",
     "start_time": "2022-04-21T03:20:19.589236Z"
    }
   },
   "outputs": [
    {
     "data": {
      "text/plain": [
       "((97, 2), (97, 1))"
      ]
     },
     "execution_count": 105,
     "metadata": {},
     "output_type": "execute_result"
    }
   ],
   "source": [
    "cols = data.shape[1]\n",
    "X = data.iloc[:, 0: -1]\n",
    "Y = data.iloc[:,  -1: ]\n",
    "X.shape, Y.shape"
   ]
  },
  {
   "cell_type": "code",
   "execution_count": 106,
   "id": "2d81329c",
   "metadata": {
    "ExecuteTime": {
     "end_time": "2022-04-21T03:20:20.040028Z",
     "start_time": "2022-04-21T03:20:20.026010Z"
    }
   },
   "outputs": [
    {
     "data": {
      "text/plain": [
       "(    One  Population\n",
       " 0     1      6.1101\n",
       " 1     1      5.5277\n",
       " 2     1      8.5186\n",
       " 3     1      7.0032\n",
       " 4     1      5.8598\n",
       " ..  ...         ...\n",
       " 92    1      5.8707\n",
       " 93    1      5.3054\n",
       " 94    1      8.2934\n",
       " 95    1     13.3940\n",
       " 96    1      5.4369\n",
       " \n",
       " [97 rows x 2 columns],\n",
       "       Profit\n",
       " 0   17.59200\n",
       " 1    9.13020\n",
       " 2   13.66200\n",
       " 3   11.85400\n",
       " 4    6.82330\n",
       " ..       ...\n",
       " 92   7.20290\n",
       " 93   1.98690\n",
       " 94   0.14454\n",
       " 95   9.05510\n",
       " 96   0.61705\n",
       " \n",
       " [97 rows x 1 columns])"
      ]
     },
     "execution_count": 106,
     "metadata": {},
     "output_type": "execute_result"
    }
   ],
   "source": [
    "X, Y"
   ]
  },
  {
   "cell_type": "code",
   "execution_count": 107,
   "id": "57127cb3",
   "metadata": {
    "ExecuteTime": {
     "end_time": "2022-04-21T03:20:20.525927Z",
     "start_time": "2022-04-21T03:20:20.503846Z"
    }
   },
   "outputs": [
    {
     "data": {
      "text/plain": [
       "(matrix([[ 1.    ,  6.1101],\n",
       "         [ 1.    ,  5.5277],\n",
       "         [ 1.    ,  8.5186],\n",
       "         [ 1.    ,  7.0032],\n",
       "         [ 1.    ,  5.8598],\n",
       "         [ 1.    ,  8.3829],\n",
       "         [ 1.    ,  7.4764],\n",
       "         [ 1.    ,  8.5781],\n",
       "         [ 1.    ,  6.4862],\n",
       "         [ 1.    ,  5.0546],\n",
       "         [ 1.    ,  5.7107],\n",
       "         [ 1.    , 14.164 ],\n",
       "         [ 1.    ,  5.734 ],\n",
       "         [ 1.    ,  8.4084],\n",
       "         [ 1.    ,  5.6407],\n",
       "         [ 1.    ,  5.3794],\n",
       "         [ 1.    ,  6.3654],\n",
       "         [ 1.    ,  5.1301],\n",
       "         [ 1.    ,  6.4296],\n",
       "         [ 1.    ,  7.0708],\n",
       "         [ 1.    ,  6.1891],\n",
       "         [ 1.    , 20.27  ],\n",
       "         [ 1.    ,  5.4901],\n",
       "         [ 1.    ,  6.3261],\n",
       "         [ 1.    ,  5.5649],\n",
       "         [ 1.    , 18.945 ],\n",
       "         [ 1.    , 12.828 ],\n",
       "         [ 1.    , 10.957 ],\n",
       "         [ 1.    , 13.176 ],\n",
       "         [ 1.    , 22.203 ],\n",
       "         [ 1.    ,  5.2524],\n",
       "         [ 1.    ,  6.5894],\n",
       "         [ 1.    ,  9.2482],\n",
       "         [ 1.    ,  5.8918],\n",
       "         [ 1.    ,  8.2111],\n",
       "         [ 1.    ,  7.9334],\n",
       "         [ 1.    ,  8.0959],\n",
       "         [ 1.    ,  5.6063],\n",
       "         [ 1.    , 12.836 ],\n",
       "         [ 1.    ,  6.3534],\n",
       "         [ 1.    ,  5.4069],\n",
       "         [ 1.    ,  6.8825],\n",
       "         [ 1.    , 11.708 ],\n",
       "         [ 1.    ,  5.7737],\n",
       "         [ 1.    ,  7.8247],\n",
       "         [ 1.    ,  7.0931],\n",
       "         [ 1.    ,  5.0702],\n",
       "         [ 1.    ,  5.8014],\n",
       "         [ 1.    , 11.7   ],\n",
       "         [ 1.    ,  5.5416],\n",
       "         [ 1.    ,  7.5402],\n",
       "         [ 1.    ,  5.3077],\n",
       "         [ 1.    ,  7.4239],\n",
       "         [ 1.    ,  7.6031],\n",
       "         [ 1.    ,  6.3328],\n",
       "         [ 1.    ,  6.3589],\n",
       "         [ 1.    ,  6.2742],\n",
       "         [ 1.    ,  5.6397],\n",
       "         [ 1.    ,  9.3102],\n",
       "         [ 1.    ,  9.4536],\n",
       "         [ 1.    ,  8.8254],\n",
       "         [ 1.    ,  5.1793],\n",
       "         [ 1.    , 21.279 ],\n",
       "         [ 1.    , 14.908 ],\n",
       "         [ 1.    , 18.959 ],\n",
       "         [ 1.    ,  7.2182],\n",
       "         [ 1.    ,  8.2951],\n",
       "         [ 1.    , 10.236 ],\n",
       "         [ 1.    ,  5.4994],\n",
       "         [ 1.    , 20.341 ],\n",
       "         [ 1.    , 10.136 ],\n",
       "         [ 1.    ,  7.3345],\n",
       "         [ 1.    ,  6.0062],\n",
       "         [ 1.    ,  7.2259],\n",
       "         [ 1.    ,  5.0269],\n",
       "         [ 1.    ,  6.5479],\n",
       "         [ 1.    ,  7.5386],\n",
       "         [ 1.    ,  5.0365],\n",
       "         [ 1.    , 10.274 ],\n",
       "         [ 1.    ,  5.1077],\n",
       "         [ 1.    ,  5.7292],\n",
       "         [ 1.    ,  5.1884],\n",
       "         [ 1.    ,  6.3557],\n",
       "         [ 1.    ,  9.7687],\n",
       "         [ 1.    ,  6.5159],\n",
       "         [ 1.    ,  8.5172],\n",
       "         [ 1.    ,  9.1802],\n",
       "         [ 1.    ,  6.002 ],\n",
       "         [ 1.    ,  5.5204],\n",
       "         [ 1.    ,  5.0594],\n",
       "         [ 1.    ,  5.7077],\n",
       "         [ 1.    ,  7.6366],\n",
       "         [ 1.    ,  5.8707],\n",
       "         [ 1.    ,  5.3054],\n",
       "         [ 1.    ,  8.2934],\n",
       "         [ 1.    , 13.394 ],\n",
       "         [ 1.    ,  5.4369]]),\n",
       " matrix([[17.592  ],\n",
       "         [ 9.1302 ],\n",
       "         [13.662  ],\n",
       "         [11.854  ],\n",
       "         [ 6.8233 ],\n",
       "         [11.886  ],\n",
       "         [ 4.3483 ],\n",
       "         [12.     ],\n",
       "         [ 6.5987 ],\n",
       "         [ 3.8166 ],\n",
       "         [ 3.2522 ],\n",
       "         [15.505  ],\n",
       "         [ 3.1551 ],\n",
       "         [ 7.2258 ],\n",
       "         [ 0.71618],\n",
       "         [ 3.5129 ],\n",
       "         [ 5.3048 ],\n",
       "         [ 0.56077],\n",
       "         [ 3.6518 ],\n",
       "         [ 5.3893 ],\n",
       "         [ 3.1386 ],\n",
       "         [21.767  ],\n",
       "         [ 4.263  ],\n",
       "         [ 5.1875 ],\n",
       "         [ 3.0825 ],\n",
       "         [22.638  ],\n",
       "         [13.501  ],\n",
       "         [ 7.0467 ],\n",
       "         [14.692  ],\n",
       "         [24.147  ],\n",
       "         [-1.22   ],\n",
       "         [ 5.9966 ],\n",
       "         [12.134  ],\n",
       "         [ 1.8495 ],\n",
       "         [ 6.5426 ],\n",
       "         [ 4.5623 ],\n",
       "         [ 4.1164 ],\n",
       "         [ 3.3928 ],\n",
       "         [10.117  ],\n",
       "         [ 5.4974 ],\n",
       "         [ 0.55657],\n",
       "         [ 3.9115 ],\n",
       "         [ 5.3854 ],\n",
       "         [ 2.4406 ],\n",
       "         [ 6.7318 ],\n",
       "         [ 1.0463 ],\n",
       "         [ 5.1337 ],\n",
       "         [ 1.844  ],\n",
       "         [ 8.0043 ],\n",
       "         [ 1.0179 ],\n",
       "         [ 6.7504 ],\n",
       "         [ 1.8396 ],\n",
       "         [ 4.2885 ],\n",
       "         [ 4.9981 ],\n",
       "         [ 1.4233 ],\n",
       "         [-1.4211 ],\n",
       "         [ 2.4756 ],\n",
       "         [ 4.6042 ],\n",
       "         [ 3.9624 ],\n",
       "         [ 5.4141 ],\n",
       "         [ 5.1694 ],\n",
       "         [-0.74279],\n",
       "         [17.929  ],\n",
       "         [12.054  ],\n",
       "         [17.054  ],\n",
       "         [ 4.8852 ],\n",
       "         [ 5.7442 ],\n",
       "         [ 7.7754 ],\n",
       "         [ 1.0173 ],\n",
       "         [20.992  ],\n",
       "         [ 6.6799 ],\n",
       "         [ 4.0259 ],\n",
       "         [ 1.2784 ],\n",
       "         [ 3.3411 ],\n",
       "         [-2.6807 ],\n",
       "         [ 0.29678],\n",
       "         [ 3.8845 ],\n",
       "         [ 5.7014 ],\n",
       "         [ 6.7526 ],\n",
       "         [ 2.0576 ],\n",
       "         [ 0.47953],\n",
       "         [ 0.20421],\n",
       "         [ 0.67861],\n",
       "         [ 7.5435 ],\n",
       "         [ 5.3436 ],\n",
       "         [ 4.2415 ],\n",
       "         [ 6.7981 ],\n",
       "         [ 0.92695],\n",
       "         [ 0.152  ],\n",
       "         [ 2.8214 ],\n",
       "         [ 1.8451 ],\n",
       "         [ 4.2959 ],\n",
       "         [ 7.2029 ],\n",
       "         [ 1.9869 ],\n",
       "         [ 0.14454],\n",
       "         [ 9.0551 ],\n",
       "         [ 0.61705]]))"
      ]
     },
     "execution_count": 107,
     "metadata": {},
     "output_type": "execute_result"
    }
   ],
   "source": [
    "X = np.matrix(X.values)\n",
    "Y = np.matrix(Y.values)\n",
    "X, Y"
   ]
  },
  {
   "cell_type": "code",
   "execution_count": 108,
   "id": "5eb13dea",
   "metadata": {
    "ExecuteTime": {
     "end_time": "2022-04-21T03:20:20.965092Z",
     "start_time": "2022-04-21T03:20:20.956085Z"
    }
   },
   "outputs": [
    {
     "data": {
      "text/plain": [
       "((97, 2), (97, 1))"
      ]
     },
     "execution_count": 108,
     "metadata": {},
     "output_type": "execute_result"
    }
   ],
   "source": [
    "X.shape, Y.shape"
   ]
  },
  {
   "cell_type": "code",
   "execution_count": 109,
   "id": "738b8243",
   "metadata": {
    "ExecuteTime": {
     "end_time": "2022-04-21T03:20:21.408348Z",
     "start_time": "2022-04-21T03:20:21.389266Z"
    }
   },
   "outputs": [
    {
     "data": {
      "text/plain": [
       "(matrix([[0., 0.]]), (1, 2))"
      ]
     },
     "execution_count": 109,
     "metadata": {},
     "output_type": "execute_result"
    }
   ],
   "source": [
    "W = np.matrix(np.zeros((1, X.shape[1])))\n",
    "W, W.shape"
   ]
  },
  {
   "cell_type": "code",
   "execution_count": 110,
   "id": "723f3d2c",
   "metadata": {
    "ExecuteTime": {
     "end_time": "2022-04-21T03:20:21.802868Z",
     "start_time": "2022-04-21T03:20:21.795894Z"
    }
   },
   "outputs": [
    {
     "data": {
      "text/plain": [
       "64.14546775491135"
      ]
     },
     "execution_count": 110,
     "metadata": {},
     "output_type": "execute_result"
    }
   ],
   "source": [
    "compute_cost(X, Y, W)"
   ]
  },
  {
   "cell_type": "code",
   "execution_count": 116,
   "id": "f4399fa5",
   "metadata": {
    "ExecuteTime": {
     "end_time": "2022-04-21T03:22:22.886626Z",
     "start_time": "2022-04-21T03:22:22.876623Z"
    }
   },
   "outputs": [],
   "source": [
    "alpha = 0.01\n",
    "iters = 10000\n"
   ]
  },
  {
   "cell_type": "code",
   "execution_count": 117,
   "id": "4a7882b7",
   "metadata": {
    "ExecuteTime": {
     "end_time": "2022-04-21T03:22:24.200717Z",
     "start_time": "2022-04-21T03:22:23.506659Z"
    }
   },
   "outputs": [
    {
     "data": {
      "text/plain": [
       "matrix([[-3.89578082,  1.19303364]])"
      ]
     },
     "execution_count": 117,
     "metadata": {},
     "output_type": "execute_result"
    }
   ],
   "source": [
    "g, cost = batch_gradient_descent(X, Y, W, alpha, iters)\n",
    "g"
   ]
  },
  {
   "cell_type": "code",
   "execution_count": 118,
   "id": "20dc28d5",
   "metadata": {
    "ExecuteTime": {
     "end_time": "2022-04-21T03:22:25.064942Z",
     "start_time": "2022-04-21T03:22:25.053947Z"
    }
   },
   "outputs": [
    {
     "data": {
      "text/plain": [
       "8.953942751950358"
      ]
     },
     "execution_count": 118,
     "metadata": {},
     "output_type": "execute_result"
    }
   ],
   "source": [
    "compute_cost(X, Y, g)"
   ]
  },
  {
   "cell_type": "code",
   "execution_count": 119,
   "id": "96269878",
   "metadata": {
    "ExecuteTime": {
     "end_time": "2022-04-21T03:26:00.525182Z",
     "start_time": "2022-04-21T03:26:00.359170Z"
    }
   },
   "outputs": [
    {
     "data": {
      "image/png": "[encoded data removed]",
      "text/plain": [
       "<Figure size 864x576 with 1 Axes>"
      ]
     },
     "metadata": {
      "needs_background": "light"
     },
     "output_type": "display_data"
    }
   ],
   "source": [
    "x = np.linspace(data.Population.min(), data.Population.max(), 100)\n",
    "f = g[0, 0] + (g[0,1] * x)\n",
    "\n",
    "fig, ax = plt.subplots(figsize=(12,8))\n",
    "ax.plot(x, f, 'r', label='Prediction')\n",
    "ax.scatter(data.Population, data.Profit, label='Training data')\n",
    "ax.legend(loc=2)\n",
    "ax.set_xlabel('Population')\n",
    "ax.set_ylabel('Profit')\n",
    "ax.set_title('Predicted Proft vs. Population Size')\n",
    "plt.show()"
   ]
  },
  {
   "cell_type": "code",
   "execution_count": 120,
   "id": "95eb44e7",
   "metadata": {
    "ExecuteTime": {
     "end_time": "2022-04-21T03:28:19.653420Z",
     "start_time": "2022-04-21T03:28:19.508418Z"
    }
   },
   "outputs": [
    {
     "data": {
      "image/png": "[encoded data removed]",
      "text/plain": [
       "<Figure size 864x576 with 1 Axes>"
      ]
     },
     "metadata": {
      "needs_background": "light"
     },
     "output_type": "display_data"
    }
   ],
   "source": [
    "fig, ax = plt.subplots(figsize=(12, 8))\n",
    "ax.plot(np.arange(iters), cost, 'r')\n",
    "ax.set_xlabel('Iterations')\n",
    "ax.set_ylabel('Cost')\n",
    "ax.set_title('Error vs. Training Epoch')\n",
    "plt.show()"
   ]
  },
  {
   "cell_type": "code",
   "execution_count": null,
   "id": "56ec8252",
   "metadata": {},
   "outputs": [],
   "source": []
  }
 ],
 "metadata": {
  "kernelspec": {
   "display_name": "Python 3 (ipykernel)",
   "language": "python",
   "name": "python3"
  },
  "language_info": {
   "codemirror_mode": {
    "name": "ipython",
    "version": 3
   },
   "file_extension": ".py",
   "mimetype": "text/x-python",
   "name": "python",
   "nbconvert_exporter": "python",
   "pygments_lexer": "ipython3",
   "version": "3.8.12"
  },
  "latex_envs": {
   "LaTeX_envs_menu_present": true,
   "autoclose": false,
   "autocomplete": true,
   "bibliofile": "biblio.bib",
   "cite_by": "apalike",
   "current_citInitial": 1,
   "eqLabelWithNumbers": true,
   "eqNumInitial": 1,
   "hotkeys": {
    "equation": "Ctrl-E",
    "itemize": "Ctrl-I"
   },
   "labels_anchors": false,
   "latex_user_defs": false,
   "report_style_numbering": false,
   "user_envs_cfg": false
  },
  "varInspector": {
   "cols": {
    "lenName": 16,
    "lenType": 16,
    "lenVar": 40
   },
   "kernels_config": {
    "python": {
     "delete_cmd_postfix": "",
     "delete_cmd_prefix": "del ",
     "library": "var_list.py",
     "varRefreshCmd": "print(var_dic_list())"
    },
    "r": {
     "delete_cmd_postfix": ") ",
     "delete_cmd_prefix": "rm(",
     "library": "var_list.r",
     "varRefreshCmd": "cat(var_dic_list()) "
    }
   },
   "types_to_exclude": [
    "module",
    "function",
    "builtin_function_or_method",
    "instance",
    "_Feature"
   ],
   "window_display": false
  }
 },
 "nbformat": 4,
 "nbformat_minor": 5
}
